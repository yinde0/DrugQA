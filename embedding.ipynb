{
 "cells": [
  {
   "cell_type": "code",
   "execution_count": 2,
   "id": "a8c499dc-c4ba-4090-b234-654cfb066c31",
   "metadata": {},
   "outputs": [],
   "source": [
    "import pandas as pd\n",
    "import numpy as np\n",
    "import matplotlib.pyplot as plt\n",
    "import random"
   ]
  },
  {
   "cell_type": "code",
   "execution_count": 3,
   "id": "32f47de8-753d-4f38-a2c5-ced2cc0fefb3",
   "metadata": {},
   "outputs": [
    {
     "data": {
      "text/html": [
       "<div>\n",
       "<style scoped>\n",
       "    .dataframe tbody tr th:only-of-type {\n",
       "        vertical-align: middle;\n",
       "    }\n",
       "\n",
       "    .dataframe tbody tr th {\n",
       "        vertical-align: top;\n",
       "    }\n",
       "\n",
       "    .dataframe thead th {\n",
       "        text-align: right;\n",
       "    }\n",
       "</style>\n",
       "<table border=\"1\" class=\"dataframe\">\n",
       "  <thead>\n",
       "    <tr style=\"text-align: right;\">\n",
       "      <th></th>\n",
       "      <th>drug_name</th>\n",
       "      <th>medical_condition</th>\n",
       "      <th>side_effects</th>\n",
       "      <th>generic_name</th>\n",
       "      <th>drug_classes</th>\n",
       "      <th>brand_names</th>\n",
       "      <th>activity</th>\n",
       "      <th>rx_otc</th>\n",
       "      <th>pregnancy_category</th>\n",
       "      <th>csa</th>\n",
       "      <th>alcohol</th>\n",
       "      <th>related_drugs</th>\n",
       "      <th>medical_condition_description</th>\n",
       "      <th>rating</th>\n",
       "      <th>no_of_reviews</th>\n",
       "      <th>drug_link</th>\n",
       "      <th>medical_condition_url</th>\n",
       "    </tr>\n",
       "  </thead>\n",
       "  <tbody>\n",
       "    <tr>\n",
       "      <th>0</th>\n",
       "      <td>doxycycline</td>\n",
       "      <td>Acne</td>\n",
       "      <td>(hives, difficult breathing, swelling in your ...</td>\n",
       "      <td>doxycycline</td>\n",
       "      <td>Miscellaneous antimalarials, Tetracyclines</td>\n",
       "      <td>Acticlate, Adoxa CK, Adoxa Pak, Adoxa TT, Alod...</td>\n",
       "      <td>87%</td>\n",
       "      <td>Rx</td>\n",
       "      <td>D</td>\n",
       "      <td>N</td>\n",
       "      <td>X</td>\n",
       "      <td>amoxicillin: https://www.drugs.com/amoxicillin...</td>\n",
       "      <td>Acne Other names: Acne Vulgaris; Blackheads; B...</td>\n",
       "      <td>6.8</td>\n",
       "      <td>760.0</td>\n",
       "      <td>https://www.drugs.com/doxycycline.html</td>\n",
       "      <td>https://www.drugs.com/condition/acne.html</td>\n",
       "    </tr>\n",
       "    <tr>\n",
       "      <th>1</th>\n",
       "      <td>spironolactone</td>\n",
       "      <td>Acne</td>\n",
       "      <td>hives ; difficulty breathing; swelling of your...</td>\n",
       "      <td>spironolactone</td>\n",
       "      <td>Aldosterone receptor antagonists, Potassium-sp...</td>\n",
       "      <td>Aldactone, CaroSpir</td>\n",
       "      <td>82%</td>\n",
       "      <td>Rx</td>\n",
       "      <td>C</td>\n",
       "      <td>N</td>\n",
       "      <td>X</td>\n",
       "      <td>amlodipine: https://www.drugs.com/amlodipine.h...</td>\n",
       "      <td>Acne Other names: Acne Vulgaris; Blackheads; B...</td>\n",
       "      <td>7.2</td>\n",
       "      <td>449.0</td>\n",
       "      <td>https://www.drugs.com/spironolactone.html</td>\n",
       "      <td>https://www.drugs.com/condition/acne.html</td>\n",
       "    </tr>\n",
       "    <tr>\n",
       "      <th>2</th>\n",
       "      <td>minocycline</td>\n",
       "      <td>Acne</td>\n",
       "      <td>skin rash, fever, swollen glands, flu-like sym...</td>\n",
       "      <td>minocycline</td>\n",
       "      <td>Tetracyclines</td>\n",
       "      <td>Dynacin, Minocin, Minolira, Solodyn, Ximino, V...</td>\n",
       "      <td>48%</td>\n",
       "      <td>Rx</td>\n",
       "      <td>D</td>\n",
       "      <td>N</td>\n",
       "      <td>NaN</td>\n",
       "      <td>amoxicillin: https://www.drugs.com/amoxicillin...</td>\n",
       "      <td>Acne Other names: Acne Vulgaris; Blackheads; B...</td>\n",
       "      <td>5.7</td>\n",
       "      <td>482.0</td>\n",
       "      <td>https://www.drugs.com/minocycline.html</td>\n",
       "      <td>https://www.drugs.com/condition/acne.html</td>\n",
       "    </tr>\n",
       "    <tr>\n",
       "      <th>3</th>\n",
       "      <td>Accutane</td>\n",
       "      <td>Acne</td>\n",
       "      <td>problems with your vision or hearing; muscle o...</td>\n",
       "      <td>isotretinoin (oral)</td>\n",
       "      <td>Miscellaneous antineoplastics, Miscellaneous u...</td>\n",
       "      <td>NaN</td>\n",
       "      <td>41%</td>\n",
       "      <td>Rx</td>\n",
       "      <td>X</td>\n",
       "      <td>N</td>\n",
       "      <td>X</td>\n",
       "      <td>doxycycline: https://www.drugs.com/doxycycline...</td>\n",
       "      <td>Acne Other names: Acne Vulgaris; Blackheads; B...</td>\n",
       "      <td>7.9</td>\n",
       "      <td>623.0</td>\n",
       "      <td>https://www.drugs.com/accutane.html</td>\n",
       "      <td>https://www.drugs.com/condition/acne.html</td>\n",
       "    </tr>\n",
       "    <tr>\n",
       "      <th>4</th>\n",
       "      <td>clindamycin</td>\n",
       "      <td>Acne</td>\n",
       "      <td>hives ; difficult breathing; swelling of your ...</td>\n",
       "      <td>clindamycin topical</td>\n",
       "      <td>Topical acne agents, Vaginal anti-infectives</td>\n",
       "      <td>Cleocin T, Clindacin ETZ, Clindacin P, Clindag...</td>\n",
       "      <td>39%</td>\n",
       "      <td>Rx</td>\n",
       "      <td>B</td>\n",
       "      <td>N</td>\n",
       "      <td>NaN</td>\n",
       "      <td>doxycycline: https://www.drugs.com/doxycycline...</td>\n",
       "      <td>Acne Other names: Acne Vulgaris; Blackheads; B...</td>\n",
       "      <td>7.4</td>\n",
       "      <td>146.0</td>\n",
       "      <td>https://www.drugs.com/mtm/clindamycin-topical....</td>\n",
       "      <td>https://www.drugs.com/condition/acne.html</td>\n",
       "    </tr>\n",
       "  </tbody>\n",
       "</table>\n",
       "</div>"
      ],
      "text/plain": [
       "        drug_name medical_condition  \\\n",
       "0     doxycycline              Acne   \n",
       "1  spironolactone              Acne   \n",
       "2     minocycline              Acne   \n",
       "3        Accutane              Acne   \n",
       "4     clindamycin              Acne   \n",
       "\n",
       "                                        side_effects         generic_name  \\\n",
       "0  (hives, difficult breathing, swelling in your ...          doxycycline   \n",
       "1  hives ; difficulty breathing; swelling of your...       spironolactone   \n",
       "2  skin rash, fever, swollen glands, flu-like sym...          minocycline   \n",
       "3  problems with your vision or hearing; muscle o...  isotretinoin (oral)   \n",
       "4  hives ; difficult breathing; swelling of your ...  clindamycin topical   \n",
       "\n",
       "                                        drug_classes  \\\n",
       "0         Miscellaneous antimalarials, Tetracyclines   \n",
       "1  Aldosterone receptor antagonists, Potassium-sp...   \n",
       "2                                      Tetracyclines   \n",
       "3  Miscellaneous antineoplastics, Miscellaneous u...   \n",
       "4       Topical acne agents, Vaginal anti-infectives   \n",
       "\n",
       "                                         brand_names activity rx_otc  \\\n",
       "0  Acticlate, Adoxa CK, Adoxa Pak, Adoxa TT, Alod...      87%     Rx   \n",
       "1                                Aldactone, CaroSpir      82%     Rx   \n",
       "2  Dynacin, Minocin, Minolira, Solodyn, Ximino, V...      48%     Rx   \n",
       "3                                                NaN      41%     Rx   \n",
       "4  Cleocin T, Clindacin ETZ, Clindacin P, Clindag...      39%     Rx   \n",
       "\n",
       "  pregnancy_category csa alcohol  \\\n",
       "0                  D   N       X   \n",
       "1                  C   N       X   \n",
       "2                  D   N     NaN   \n",
       "3                  X   N       X   \n",
       "4                  B   N     NaN   \n",
       "\n",
       "                                       related_drugs  \\\n",
       "0  amoxicillin: https://www.drugs.com/amoxicillin...   \n",
       "1  amlodipine: https://www.drugs.com/amlodipine.h...   \n",
       "2  amoxicillin: https://www.drugs.com/amoxicillin...   \n",
       "3  doxycycline: https://www.drugs.com/doxycycline...   \n",
       "4  doxycycline: https://www.drugs.com/doxycycline...   \n",
       "\n",
       "                       medical_condition_description  rating  no_of_reviews  \\\n",
       "0  Acne Other names: Acne Vulgaris; Blackheads; B...     6.8          760.0   \n",
       "1  Acne Other names: Acne Vulgaris; Blackheads; B...     7.2          449.0   \n",
       "2  Acne Other names: Acne Vulgaris; Blackheads; B...     5.7          482.0   \n",
       "3  Acne Other names: Acne Vulgaris; Blackheads; B...     7.9          623.0   \n",
       "4  Acne Other names: Acne Vulgaris; Blackheads; B...     7.4          146.0   \n",
       "\n",
       "                                           drug_link  \\\n",
       "0             https://www.drugs.com/doxycycline.html   \n",
       "1          https://www.drugs.com/spironolactone.html   \n",
       "2             https://www.drugs.com/minocycline.html   \n",
       "3                https://www.drugs.com/accutane.html   \n",
       "4  https://www.drugs.com/mtm/clindamycin-topical....   \n",
       "\n",
       "                       medical_condition_url  \n",
       "0  https://www.drugs.com/condition/acne.html  \n",
       "1  https://www.drugs.com/condition/acne.html  \n",
       "2  https://www.drugs.com/condition/acne.html  \n",
       "3  https://www.drugs.com/condition/acne.html  \n",
       "4  https://www.drugs.com/condition/acne.html  "
      ]
     },
     "execution_count": 3,
     "metadata": {},
     "output_type": "execute_result"
    }
   ],
   "source": [
    "drug = pd.read_csv('Drugs Master List.csv')\n",
    "drug.head()"
   ]
  },
  {
   "cell_type": "markdown",
   "id": "246301cc-5467-4bce-a489-1e8565cb7c8d",
   "metadata": {},
   "source": [
    "### Embeddings\n",
    "\n",
    "SentenceTransformer was used to generate sentences embeddings to get sentence with similar semantics, we can check a quick example below."
   ]
  },
  {
   "cell_type": "code",
   "execution_count": 13,
   "id": "7224cf2b-542e-434c-bded-d49da1d53c79",
   "metadata": {},
   "outputs": [],
   "source": [
    "import torch"
   ]
  },
  {
   "cell_type": "code",
   "execution_count": 14,
   "id": "bb719034-f13c-4472-b801-9dd26614a464",
   "metadata": {},
   "outputs": [
    {
     "name": "stdout",
     "output_type": "stream",
     "text": [
      "Cosine-Similarity: tensor([[0.6153]])\n"
     ]
    }
   ],
   "source": [
    "from sentence_transformers import SentenceTransformer, util\n",
    "model = SentenceTransformer('all-MiniLM-L6-v2')\n",
    "\n",
    "#Sentences are encoded by calling model.encode()\n",
    "emb1 = model.encode(\"This is a red cat with a hat.\")\n",
    "emb2 = model.encode(\"Have you seen my red cat?\")\n",
    "\n",
    "cos_sim = util.cos_sim(emb1, emb2)\n",
    "print(\"Cosine-Similarity:\", cos_sim)"
   ]
  },
  {
   "cell_type": "code",
   "execution_count": 15,
   "id": "b32ff87a-22f8-4c7b-8ac2-0cd564fd0308",
   "metadata": {},
   "outputs": [
    {
     "name": "stdout",
     "output_type": "stream",
     "text": [
      "Cosine-Similarity: tensor([[0.7614]])\n"
     ]
    }
   ],
   "source": [
    "#Sentences are encoded, but we check for semantics between sentence and word\n",
    "\n",
    "emb1 = model.encode(\"This is a red cat with a hat.\")\n",
    "emb2 = model.encode(\"red cat\")\n",
    "\n",
    "cos_sim = util.cos_sim(emb1, emb2)\n",
    "print(\"Cosine-Similarity:\", cos_sim)"
   ]
  },
  {
   "cell_type": "code",
   "execution_count": 16,
   "id": "455d8fe8-f498-4fad-8b85-52c4e67e1dc7",
   "metadata": {},
   "outputs": [],
   "source": [
    "corpus = drug['drug_name'].unique().tolist()"
   ]
  },
  {
   "cell_type": "code",
   "execution_count": 18,
   "id": "6bc7278d-d42f-4722-a08e-7797ae47d5ab",
   "metadata": {},
   "outputs": [],
   "source": [
    "corpus_embeddings = model.encode(corpus, convert_to_tensor=True)"
   ]
  },
  {
   "cell_type": "code",
   "execution_count": 17,
   "id": "ebfdcc73-ae9f-491e-9338-f6e954d81a82",
   "metadata": {},
   "outputs": [],
   "source": [
    "from scr.utils import read_list\n",
    "corpus = read_list()\n",
    "corpus"
   ]
  },
  {
   "cell_type": "code",
   "execution_count": 33,
   "id": "674a0942-4b93-4e29-8143-e4097726376b",
   "metadata": {},
   "outputs": [],
   "source": [
    "# # Python program to store list to file using pickle module\n",
    "# import pickle\n",
    "\n",
    "# # write list to binary file\n",
    "# def write_list(a_list):\n",
    "#     # store list in binary file so 'wb' mode\n",
    "#     with open('listfile', 'wb') as fp:\n",
    "#         pickle.dump(corpus, fp)\n",
    "#         print('Done writing list into a binary file')\n",
    "\n",
    "# # Read list to memory\n",
    "# def read_list():\n",
    "#     # for reading also binary mode is important\n",
    "#     with open('listfile', 'rb') as fp:\n",
    "#         n_list = pickle.load(fp)\n",
    "#         return n_list\n",
    "\n",
    "# # list of names\n",
    "\n",
    "# write_list(corpus)\n",
    "# r_names = read_list()\n",
    "# ##print('List is', r_names)"
   ]
  },
  {
   "cell_type": "code",
   "execution_count": 20,
   "id": "e34e15bd-7dab-4f8c-b86d-c982e6608b6a",
   "metadata": {},
   "outputs": [
    {
     "name": "stdout",
     "output_type": "stream",
     "text": [
      "56\n"
     ]
    }
   ],
   "source": [
    "#This list was generated to test sentence to word semantics using our model.\n",
    "\n",
    "prefix = ['I want to know more about', \n",
    "          'what can you tell me about', \n",
    "          'what is the effect of', \n",
    "          'what is',\n",
    "          'I want to know more on',\n",
    "          'tell me about',\n",
    "          \"I'm curious to hear your insights on\",\n",
    "          \"I'm interested in your knowledge regarding\",\n",
    "          \"I'd like to know what you can share about\",\n",
    "          \"I'm seeking information about\",\n",
    "          \"I'm eager to learn from you about\",\n",
    "          \"Can you provide any details on\",\n",
    "          \"I'm hoping you can shed some light on\",\n",
    "          \"I'm open to hearing your perspective on\",\n",
    "          \"Could you enlighten me about\",\n",
    "          \"I'm wondering if you have any information on\",\n",
    "          \"What insights can you provide on the topic of\",\n",
    "          \"I'm in search of information about\",\n",
    "          \"Can you offer any knowledge or details about\",\n",
    "          \"I'd appreciate it if you could share your expertise on\",\n",
    "          \"I'm looking for some background information on\",\n",
    "          \"Could you tell me more about the subject of\",\n",
    "          \"I'm curious to explore your understanding of\",\n",
    "          \"I'd like to tap into your knowledge about\",\n",
    "          \"Can you shed some light on the details of\",\n",
    "          \"I'm interested to hear what you can tell me about\",\n",
    "          \"Give me an overview of\",\n",
    "          \"Provide me with some information on\",\n",
    "          \"Share some details about\",\n",
    "          \"Fill me in on the details of\",\n",
    "          \"Paint a picture for me regarding\",\n",
    "          \"Give me a rundown on\",\n",
    "          \"Enlighten me about\",\n",
    "          \"Educate me about\",\n",
    "          \"Brief me on\",\n",
    "          \"Bring me up to speed on\",\n",
    "          \"Tell me the story behind\",\n",
    "          \"Give me a synopsis of\",\n",
    "          \"Provide a description of\",\n",
    "          \"Let me know all about\",\n",
    "          \"Offer some insights into\",\n",
    "          \"Explain the background of\",\n",
    "          \"Share the key points about\",\n",
    "          \"Reveal the details about\",\n",
    "          \"Walk me through the basics of\",\n",
    "          \"Paint a clear picture of\",\n",
    "          \"Give me an account of\",\n",
    "          \"Elaborate on the specifics of\",\n",
    "          \"Provide an introduction to\",\n",
    "          \"Tell me everything you know about\",\n",
    "          \"Enlighten me on the subject of\",\n",
    "          \"Give me a comprehensive overview of\",\n",
    "          \"Share your knowledge about\",\n",
    "          \"Explain the main aspects of\",\n",
    "          \"Tell me the significance of\",\n",
    "          \"Give me an in-depth look into\"]\n",
    "\n",
    "print(len(prefix))"
   ]
  },
  {
   "cell_type": "code",
   "execution_count": 26,
   "id": "b3a1d357-f6b9-4e65-9ea9-09fa4bbaa0ee",
   "metadata": {},
   "outputs": [],
   "source": [
    "#Save model for inference\n",
    "from sentence_transformers import SentenceTransformer\n",
    "modelPath = \"model\"\n",
    "\n",
    "model.save(modelPath)\n",
    "model = SentenceTransformer(modelPath)"
   ]
  },
  {
   "cell_type": "code",
   "execution_count": 33,
   "id": "c211ea6a-fc89-4f66-9ca1-470e351f3588",
   "metadata": {},
   "outputs": [],
   "source": [
    "#generate random prompts\n",
    "queries = []\n",
    "\n",
    "for i in range(5):\n",
    "    text = random.choice(prefix) + ' ' + random.choice(corpus)\n",
    "    queries.append(text)  \n",
    "    "
   ]
  },
  {
   "cell_type": "code",
   "execution_count": 34,
   "id": "521bd278-7bfd-493e-bf7c-46bb7e251522",
   "metadata": {},
   "outputs": [
    {
     "data": {
      "text/plain": [
       "['tell me about Dexamethasone Intensol',\n",
       " 'Can you provide any details on lamivudine',\n",
       " 'Give me a comprehensive overview of Dulera',\n",
       " 'What insights can you provide on the topic of Estarylla',\n",
       " 'Can you offer any knowledge or details about Azelex']"
      ]
     },
     "execution_count": 34,
     "metadata": {},
     "output_type": "execute_result"
    }
   ],
   "source": [
    "# Query sentences:\n",
    "queries"
   ]
  },
  {
   "cell_type": "code",
   "execution_count": 36,
   "id": "1c4a01a5-220b-4c9c-87f7-c34d9c63a567",
   "metadata": {},
   "outputs": [
    {
     "name": "stdout",
     "output_type": "stream",
     "text": [
      "\n",
      "\n",
      "======================\n",
      "\n",
      "\n",
      "Query: tell me about Dexamethasone Intensol\n",
      "\n",
      "Top 5 most similar sentences in corpus:\n",
      "Dexamethasone Intensol (Score: 0.9335)\n",
      "dexamethasone (Score: 0.7191)\n",
      "Dexedrine (Score: 0.5825)\n",
      "dexmethylphenidate (Score: 0.5813)\n",
      "Alprazolam Intensol (Score: 0.5764)\n",
      "\n",
      "\n",
      "======================\n",
      "\n",
      "\n",
      "Query: Can you provide any details on lamivudine\n",
      "\n",
      "Top 5 most similar sentences in corpus:\n",
      "lamivudine (Score: 0.8050)\n",
      "dolutegravir / lamivudine (Score: 0.6912)\n",
      "abacavir / lamivudine (Score: 0.6730)\n",
      "lamivudine / tenofovir (Score: 0.6705)\n",
      "lamivudine / zidovudine (Score: 0.6613)\n",
      "\n",
      "\n",
      "======================\n",
      "\n",
      "\n",
      "Query: Give me a comprehensive overview of Dulera\n",
      "\n",
      "Top 5 most similar sentences in corpus:\n",
      "Dulera (Score: 0.6966)\n",
      "Durasal (Score: 0.4383)\n",
      "Duraflu (Score: 0.4330)\n",
      "Duac (Score: 0.3803)\n",
      "duloxetine (Score: 0.3545)\n",
      "\n",
      "\n",
      "======================\n",
      "\n",
      "\n",
      "Query: What insights can you provide on the topic of Estarylla\n",
      "\n",
      "Top 5 most similar sentences in corpus:\n",
      "Estarylla (Score: 0.7844)\n",
      "Tri-Estarylla (Score: 0.6311)\n",
      "ethinyl estradiol / norgestimate (Score: 0.3971)\n",
      "ethinyl estradiol / norethindrone (Score: 0.3812)\n",
      "drospirenone / ethinyl estradiol (Score: 0.3417)\n",
      "\n",
      "\n",
      "======================\n",
      "\n",
      "\n",
      "Query: Can you offer any knowledge or details about Azelex\n",
      "\n",
      "Top 5 most similar sentences in corpus:\n",
      "Azelex (Score: 0.7798)\n",
      "azelaic acid (Score: 0.5255)\n",
      "Ziagen (Score: 0.4457)\n",
      "Azstarys (Score: 0.4395)\n",
      "Zyprexa (Score: 0.4253)\n"
     ]
    }
   ],
   "source": [
    "# Find the closest 5 sentences of the corpus for each query sentence based on cosine similarity\n",
    "top_k = min(5, len(corpus))\n",
    "for query in queries:\n",
    "    query_embedding = model.encode(query, convert_to_tensor=True)\n",
    "\n",
    "    # We use cosine-similarity and torch.topk to find the highest 5 scores\n",
    "    cos_scores = util.cos_sim(query_embedding, corpus_embeddings)[0]\n",
    "    top_results = torch.topk(cos_scores, k=top_k)\n",
    "\n",
    "    print(\"\\n\\n======================\\n\\n\")\n",
    "    print(\"Query:\", query)\n",
    "    print(\"\\nTop 5 most similar sentences in corpus:\")\n",
    "\n",
    "    for score, idx in zip(top_results[0], top_results[1]):\n",
    "        print(corpus[idx], \"(Score: {:.4f})\".format(score))"
   ]
  },
  {
   "cell_type": "markdown",
   "id": "b641116a-28ce-413f-89fa-4deb3d45bb6a",
   "metadata": {},
   "source": [
    "**The model performs very well in extracting semantic words from a sentence**"
   ]
  },
  {
   "cell_type": "markdown",
   "id": "5e7479d5-89f3-4cd7-b9ec-64b3e1f98b38",
   "metadata": {},
   "source": [
    "### Performing test on extracting data from the json bank."
   ]
  },
  {
   "cell_type": "code",
   "execution_count": 47,
   "id": "29471607-e407-41a0-9032-b67b6d7617e1",
   "metadata": {},
   "outputs": [],
   "source": [
    "import json\n",
    "  \n",
    "# Opening JSON file\n",
    "f = open('databank.json')\n",
    "  \n",
    "# returns JSON object as a dictionary\n",
    "data = json.load(f)"
   ]
  },
  {
   "cell_type": "code",
   "execution_count": 55,
   "id": "9632f12e-8a62-45c7-aa35-73999ac1cfa3",
   "metadata": {},
   "outputs": [],
   "source": [
    "work_data = data['doxycycline']\n",
    "\n",
    "focus = ['generic_name', 'brand_names']\n",
    "\n",
    "sub_result = {}\n",
    "\n",
    "for i in focus:\n",
    "    result = work_data[i]\n",
    "    sub_result[i] = result"
   ]
  },
  {
   "cell_type": "code",
   "execution_count": 58,
   "id": "d5ab9e3d-4053-45be-8786-7b5677011540",
   "metadata": {},
   "outputs": [
    {
     "data": {
      "text/plain": [
       "{'result': [{'generic_name': 'doxycycline',\n",
       "   'brand_names': 'Acticlate, Adoxa CK, Adoxa Pak, Adoxa TT, Alodox, Avidoxy, Doryx, Mondoxyne NL, Monodox, Morgidox, Okebo, Oracea, Oraxyl, Periostat Targadox, Vibramycin calcium, Vibramycin Hyclate, Vibramycin monohydrate, Vibra-Tabs'}]}"
      ]
     },
     "execution_count": 58,
     "metadata": {},
     "output_type": "execute_result"
    }
   ],
   "source": [
    "final_result = {\"result\": \n",
    "                [\n",
    "                    sub_result\n",
    "                ]\n",
    "               }\n",
    "\n",
    "final_result"
   ]
  },
  {
   "cell_type": "markdown",
   "id": "31a84c74-4ca8-4403-9dba-82a1cfead5df",
   "metadata": {},
   "source": [
    "### Testing the deployed API "
   ]
  },
  {
   "cell_type": "code",
   "execution_count": 2,
   "id": "be319f21-405e-48ea-81db-147d4683fb8c",
   "metadata": {},
   "outputs": [
    {
     "name": "stdout",
     "output_type": "stream",
     "text": [
      "200\n"
     ]
    }
   ],
   "source": [
    "### Getting data from the deployed api.\n",
    "\n",
    "import requests\n",
    "\n",
    "url = 'https://work-now.onrender.com/extract_review'\n",
    "params = {\n",
    "    'prompt': 'what is doxycycline'\n",
    "}\n",
    "headers = {\n",
    "    'accept': 'application/json',\n",
    "    'Content-Type': 'application/json'\n",
    "}\n",
    "data = [\n",
    "    \"drug_name\", \"drug_classes\", \"brand_names\"\n",
    "]\n",
    "\n",
    "response = requests.post(url, params=params, headers=headers, json=data, allow_redirects=False)\n",
    "print(response.status_code)"
   ]
  },
  {
   "cell_type": "code",
   "execution_count": 4,
   "id": "8eeb2df3-5040-4b59-bf0a-c8c307f829fe",
   "metadata": {},
   "outputs": [
    {
     "data": {
      "text/plain": [
       "{'result': [{'drug_name': 'doxycycline',\n",
       "   'drug_classes': \"['Miscellaneous antimalarials, Tetracyclines']\",\n",
       "   'brand_names': \"['Acticlate, Adoxa CK, Adoxa Pak, Adoxa TT, Alodox, Avidoxy, Doryx, Mondoxyne NL, Monodox, Morgidox, Okebo, Oracea, Oraxyl, Periostat Targadox, Vibramycin calcium, Vibramycin Hyclate, Vibramycin monohydrate, Vibra-Tabs']\",\n",
       "   'medical_condition': 'Acne',\n",
       "   'side_effects': \"[' nausea and vomiting, upset stomach, loss of appetite, mild diarrhea, skin rash or itching, darkened skin color, vaginal itching or discharge.']\",\n",
       "   'generic_name': 'doxycycline',\n",
       "   'activity': '87%',\n",
       "   'rx_otc': 'Rx',\n",
       "   'pregnancy_category': 'D',\n",
       "   'csa': 'N',\n",
       "   'alcohol': 'X',\n",
       "   'medical_condition_description': \"['Acne Other names: Acne Vulgaris, Blackheads, Breakouts, Cystic acne, Pimples, Whiteheads, Zits Acne is a skin condition caused by dead skin cells sticking together and clogging up pores']\",\n",
       "   'rating': '6.8',\n",
       "   'no_of_reviews': '760.0'}]}"
      ]
     },
     "execution_count": 4,
     "metadata": {},
     "output_type": "execute_result"
    }
   ],
   "source": [
    "response.json()"
   ]
  }
 ],
 "metadata": {
  "kernelspec": {
   "display_name": "Python 3 (ipykernel)",
   "language": "python",
   "name": "python3"
  },
  "language_info": {
   "codemirror_mode": {
    "name": "ipython",
    "version": 3
   },
   "file_extension": ".py",
   "mimetype": "text/x-python",
   "name": "python",
   "nbconvert_exporter": "python",
   "pygments_lexer": "ipython3",
   "version": "3.10.9"
  }
 },
 "nbformat": 4,
 "nbformat_minor": 5
}
